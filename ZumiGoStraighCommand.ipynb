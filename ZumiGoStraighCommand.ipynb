{
 "cells": [
  {
   "cell_type": "markdown",
   "metadata": {},
   "source": [
    "## go_straight()\n",
    " \n",
    "#### Description\n",
    "Drives straight infinitely. This function only works when called inside of a loop with lower speed values.\n",
    "\n",
    "#### Syntax\n",
    "go_straight(speed, desired_angle)\n",
    "go_straight(speed, desired_angle, max_speed=127)\n",
    "\n",
    "#### Parameters\n",
    "speed: Drive speed between 0 and 127  <br>\n",
    "desired_angle: Desired heading (0 is the facing the direction where Zumi object was created)<br>\n",
    "max_speed: Default to 127 but can be changed to a lower value to cap the max speed<br>\n",
    "\n",
    "#### Returns\n",
    "None"
   ]
  },
  {
   "cell_type": "code",
   "execution_count": 2,
   "metadata": {},
   "outputs": [
    {
     "name": "stdout",
     "output_type": "stream",
     "text": [
      "Starting Zumi \n",
      "Pi Zero I2C is available\n",
      "Verified Pi Zero is the same\n",
      "Gyroscope previously calibrated\n",
      "Zumi board detected\n",
      "OLED Screen detected\n",
      "Gyroscope & Accelerometer detected\n",
      "done\n"
     ]
    }
   ],
   "source": [
    "from zumi.zumi import Zumi\n",
    "\n",
    "zumi = Zumi()\n",
    "\n",
    "#make sure to reset the gyro \n",
    "#since we are using go_straight()\n",
    "zumi.reset_gyro()\n",
    "\n",
    "try:\n",
    "    for i in range(0, 50):\n",
    "        zumi.go_straight(80,0)\n",
    "finally:\n",
    "    zumi.stop()\n",
    "    print(\"done\")"
   ]
  },
  {
   "cell_type": "markdown",
   "metadata": {},
   "source": [
    "## What is a try finally ?"
   ]
  },
  {
   "cell_type": "code",
   "execution_count": null,
   "metadata": {},
   "outputs": [],
   "source": [
    "#..."
   ]
  },
  {
   "cell_type": "markdown",
   "metadata": {},
   "source": []
  },
  {
   "cell_type": "code",
   "execution_count": null,
   "metadata": {},
   "outputs": [],
   "source": [
    "#you can also avoid crashing into walls\n",
    "\n",
    "#this is the angle zumi will try to \n",
    "#drive forward unless something is ahead\n",
    "#make sure not to pick up zumi as it will mess up the heading\n",
    "heading = 0\n",
    "\n",
    "time_start = time.time()\n",
    "time_elapsed = 0\n",
    "\n",
    "#make sure to reset the gyro \n",
    "#since we are using go_straight()\n",
    "zumi.reset_gyro()\n",
    "\n",
    "try:\n",
    "    # repeat for 10 seconds\n",
    "    while time_elapsed < 10:\n",
    "\n",
    "        time_elapsed = time.time()-time_start\n",
    "        zumi.go_straight(30, heading, 60)\n",
    "finally:\n",
    "    zumi.stop()\n",
    "    print(\"done\")"
   ]
  },
  {
   "cell_type": "code",
   "execution_count": null,
   "metadata": {},
   "outputs": [],
   "source": [
    "#how to find max and min values"
   ]
  },
  {
   "cell_type": "code",
   "execution_count": null,
   "metadata": {},
   "outputs": [],
   "source": [
    "#use this program in order to find the \n",
    "#max and min values of your \n",
    "#front left and right IR sensors\n",
    "\n",
    "left_list = []\n",
    "right_list = []\n",
    "\n",
    "for i in range(0,200):\n",
    "    # note can be a number between 0-60\n",
    "    ir_readings = zumi.get_all_IR_data()\n",
    "\n",
    "    left_list.append(ir_readings[5])\n",
    "    right_list.append(ir_readings[0])\n",
    "    print(\"right= \" ,ir_readings[0], \" left= \", ir_readings[5])\n",
    "    IPython.display.clear_output(wait=True)\n",
    "    \n",
    "print(\"left: max \", max(left_list), \" min \",min(left_list))\n",
    "print(\"right: max \", max(right_list), \" min \",min(right_list))"
   ]
  },
  {
   "cell_type": "code",
   "execution_count": null,
   "metadata": {},
   "outputs": [],
   "source": [
    "#you can also avoid crashing into walls\n",
    "\n",
    "#this is the angle zumi will try to \n",
    "#drive forward unless something is ahead\n",
    "#make sure not to pick up zumi as it will mess up the heading\n",
    "heading = 0\n",
    "\n",
    "time_start = time.time()\n",
    "time_elapsed = 0\n",
    "\n",
    "#the sensitivity of the ir sensors\n",
    "min_ir_threshold = 200\n",
    "\n",
    "#make sure to reset the gyro \n",
    "#since we are using go_straight()\n",
    "zumi.reset_gyro()\n",
    "\n",
    "try:\n",
    "    # repeat for 10 seconds\n",
    "    while time_elapsed < 10:\n",
    "\n",
    "        time_elapsed = time.time()-time_start\n",
    "        ir_readings = zumi.get_all_IR_data()\n",
    "        front_right_ir = ir_readings[0]\n",
    "        front_left_ir = ir_readings[5]\n",
    "\n",
    "        if front_left_ir < min_ir_threshold or front_right_ir < min_ir_threshold:\n",
    "            print(\"something ahead\")\n",
    "            zumi.stop()\n",
    "        else:\n",
    "            print(\"nothing ahead\")\n",
    "            zumi.go_straight(30, heading, 60)\n",
    "\n",
    "        IPython.display.clear_output(wait=True) \n",
    "finally:\n",
    "    zumi.stop()\n",
    "    print(\"done\")"
   ]
  }
 ],
 "metadata": {
  "kernelspec": {
   "display_name": "Python 3",
   "language": "python",
   "name": "python3"
  },
  "language_info": {
   "codemirror_mode": {
    "name": "ipython",
    "version": 3
   },
   "file_extension": ".py",
   "mimetype": "text/x-python",
   "name": "python",
   "nbconvert_exporter": "python",
   "pygments_lexer": "ipython3",
   "version": "3.5.3"
  }
 },
 "nbformat": 4,
 "nbformat_minor": 2
}
